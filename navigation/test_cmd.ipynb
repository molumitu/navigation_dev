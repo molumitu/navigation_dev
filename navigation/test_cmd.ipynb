{
 "cells": [
  {
   "cell_type": "code",
   "execution_count": 35,
   "source": [
    "import os\r\n",
    "import xml.etree.ElementTree as ET\r\n",
    "\r\n",
    "net_path = R'map\\Map4_Tsinghua_Intersection\\grid-map.net.xml'\r\n",
    "trip_path = R'trips.xml'\r\n",
    "\r\n",
    "start=\"genE664\"\r\n",
    "end=\"zhongguancundajie_out\"\r\n",
    "tree = ET.parse(trip_path)\r\n",
    "root = tree.getroot()\r\n",
    "route_info = root.find('trip')\r\n",
    "route_info.attrib['from'] = str(start)\r\n",
    "route_info.attrib['to'] = str(end)"
   ],
   "outputs": [],
   "metadata": {}
  },
  {
   "cell_type": "code",
   "execution_count": 36,
   "source": [
    "route_info.set('to',end)"
   ],
   "outputs": [],
   "metadata": {}
  },
  {
   "cell_type": "code",
   "execution_count": 37,
   "source": [
    "route_info.attrib"
   ],
   "outputs": [
    {
     "output_type": "execute_result",
     "data": {
      "text/plain": [
       "{'depart': '0', 'from': 'genE664', 'id': '0', 'to': 'zhongguancundajie_out'}"
      ]
     },
     "metadata": {},
     "execution_count": 37
    }
   ],
   "metadata": {}
  },
  {
   "cell_type": "code",
   "execution_count": 38,
   "source": [
    "tree=ET.ElementTree(root)\r\n",
    "tree.write(trip_path)"
   ],
   "outputs": [],
   "metadata": {}
  },
  {
   "cell_type": "code",
   "execution_count": 39,
   "source": [
    "rou_path = R'Map4_Tsinghua_Intersection\\grid-map-traffic.rou.xml'\r\n",
    "tree = ET.parse(rou_path)\r\n",
    "root = tree.getroot()"
   ],
   "outputs": [],
   "metadata": {}
  },
  {
   "cell_type": "code",
   "execution_count": 40,
   "source": [
    "route_list = ['zhongguancunbei_in', 'gneE246', 'gneE246.512', 'zhongguancundajie_out']\r\n",
    "rou_str = ''\r\n",
    "for edge in route_list:\r\n",
    "    rou_str += edge\r\n",
    "    rou_str += ' '\r\n",
    "print(rou_str)"
   ],
   "outputs": [
    {
     "output_type": "stream",
     "name": "stdout",
     "text": [
      "zhongguancunbei_in gneE246 gneE246.512 zhongguancundajie_out \n"
     ]
    }
   ],
   "metadata": {}
  },
  {
   "cell_type": "code",
   "execution_count": 41,
   "source": [
    "root.find('route').attrib['edges'] = rou_str"
   ],
   "outputs": [],
   "metadata": {}
  },
  {
   "cell_type": "code",
   "execution_count": 42,
   "source": [
    "root.find('route').attrib['edges']"
   ],
   "outputs": [
    {
     "output_type": "execute_result",
     "data": {
      "text/plain": [
       "'zhongguancunbei_in gneE246 gneE246.512 zhongguancundajie_out '"
      ]
     },
     "metadata": {},
     "execution_count": 42
    }
   ],
   "metadata": {}
  },
  {
   "cell_type": "code",
   "execution_count": 43,
   "source": [
    "tree=ET.ElementTree(root)\r\n",
    "tree.write(rou_path)"
   ],
   "outputs": [],
   "metadata": {}
  }
 ],
 "metadata": {
  "orig_nbformat": 4,
  "language_info": {
   "name": "python",
   "version": "3.7.11",
   "mimetype": "text/x-python",
   "codemirror_mode": {
    "name": "ipython",
    "version": 3
   },
   "pygments_lexer": "ipython3",
   "nbconvert_exporter": "python",
   "file_extension": ".py"
  },
  "kernelspec": {
   "name": "python3",
   "display_name": "Python 3.7.11 64-bit ('LasVSim': conda)"
  },
  "interpreter": {
   "hash": "9d5765d5d305e494e5dc21fa60f97252b9f686dffe5b0c7583fae3a9e86cc32d"
  }
 },
 "nbformat": 4,
 "nbformat_minor": 2
}