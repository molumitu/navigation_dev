{
 "cells": [
  {
   "cell_type": "code",
   "execution_count": 5,
   "source": [
    "trip_path = R'trips.xml'\r\n",
    "import xml.etree.ElementTree as ET\r\n",
    "tree = ET.parse(trip_path)\r\n",
    "root = tree.getroot()"
   ],
   "outputs": [],
   "metadata": {}
  },
  {
   "cell_type": "code",
   "execution_count": 6,
   "source": [
    "sub1 = root.find('trip')"
   ],
   "outputs": [],
   "metadata": {}
  },
  {
   "cell_type": "code",
   "execution_count": 17,
   "source": [
    "sub1.attrib['id'] = '23'\r\n",
    "tree.write(trip_path)"
   ],
   "outputs": [],
   "metadata": {}
  },
  {
   "cell_type": "code",
   "execution_count": 7,
   "source": [
    "new_info = sub1.attrib"
   ],
   "outputs": [],
   "metadata": {}
  },
  {
   "cell_type": "code",
   "execution_count": 8,
   "source": [
    "new_info"
   ],
   "outputs": [
    {
     "output_type": "execute_result",
     "data": {
      "text/plain": [
       "{'id': '7355608',\n",
       " 'depart': '25',\n",
       " 'departLane': '0',\n",
       " 'arrivalLAne': '0',\n",
       " 'from': 'beisihuanxifu_out',\n",
       " 'to': 'zhongguancunbei_in'}"
      ]
     },
     "metadata": {},
     "execution_count": 8
    }
   ],
   "metadata": {}
  },
  {
   "cell_type": "code",
   "execution_count": 12,
   "source": [
    "new_info['from'] = 'beisihuanxifu_out'\r\n",
    "new_info['to'] = 'zhongguancunbei_in'\r\n",
    "new_info['id'] = '1'"
   ],
   "outputs": [],
   "metadata": {}
  },
  {
   "cell_type": "code",
   "execution_count": 13,
   "source": [
    "new_info"
   ],
   "outputs": [
    {
     "output_type": "execute_result",
     "data": {
      "text/plain": [
       "{'id': '1',\n",
       " 'depart': '25',\n",
       " 'departLane': '0',\n",
       " 'arrivalLAne': '0',\n",
       " 'from': 'beisihuanxifu_out',\n",
       " 'to': 'zhongguancunbei_in'}"
      ]
     },
     "metadata": {},
     "execution_count": 13
    }
   ],
   "metadata": {}
  },
  {
   "cell_type": "code",
   "execution_count": 14,
   "source": [
    "tree.write(trip_path)"
   ],
   "outputs": [],
   "metadata": {}
  },
  {
   "cell_type": "code",
   "execution_count": 18,
   "source": [
    "result_path = R'result.rou.xml'\r\n",
    "import xml.etree.ElementTree as ET\r\n",
    "tree = ET.parse(result_path)\r\n",
    "root = tree.getroot()"
   ],
   "outputs": [],
   "metadata": {}
  },
  {
   "cell_type": "code",
   "execution_count": 30,
   "source": [
    "r = root.find('vehicle').find('route').attrib['edges']\r\n",
    "r.split()"
   ],
   "outputs": [
    {
     "output_type": "execute_result",
     "data": {
      "text/plain": [
       "'zhongguancunbei_in gneE246 gneE246.512 beisihuanxifu_out'"
      ]
     },
     "metadata": {},
     "execution_count": 30
    }
   ],
   "metadata": {}
  }
 ],
 "metadata": {
  "orig_nbformat": 4,
  "language_info": {
   "name": "python",
   "version": "3.8.3",
   "mimetype": "text/x-python",
   "codemirror_mode": {
    "name": "ipython",
    "version": 3
   },
   "pygments_lexer": "ipython3",
   "nbconvert_exporter": "python",
   "file_extension": ".py"
  },
  "kernelspec": {
   "name": "python3",
   "display_name": "Python 3.8.3 64-bit ('base': conda)"
  },
  "interpreter": {
   "hash": "b3ba2566441a7c06988d0923437866b63cedc61552a5af99d1f4fb67d367b25f"
  }
 },
 "nbformat": 4,
 "nbformat_minor": 2
}