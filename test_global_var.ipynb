{
 "cells": [
  {
   "cell_type": "code",
   "execution_count": null,
   "source": [
    "######################################\r\n",
    "## test the content of global variable\r\n",
    "var_dict['_RL2RaL']['passenger']['zhongguancunbei_in']"
   ],
   "outputs": [],
   "metadata": {}
  },
  {
   "cell_type": "code",
   "execution_count": null,
   "source": [
    "var_dict['_R2RwDL']['passenger']['zhongguancunbei_in'] #maybe useful"
   ],
   "outputs": [],
   "metadata": {}
  },
  {
   "cell_type": "code",
   "execution_count": null,
   "source": [
    "var_dict['_LPstparaS']['passenger']['zhongguancunbei_in_5']  #I guess these are the points in the junction [d, t ,r, z]"
   ],
   "outputs": [],
   "metadata": {}
  },
  {
   "cell_type": "code",
   "execution_count": null,
   "source": [
    "var_dict['_LPpara']['passenger']['zhongguancunbei_in_2']   #这个不错,可以返回lane的信息"
   ],
   "outputs": [],
   "metadata": {}
  },
  {
   "cell_type": "code",
   "execution_count": 13,
   "source": [
    "best = [2, 3, 4]\r\n",
    "ind = 5\r\n",
    "best_num = 10\r\n",
    "for num in best:\r\n",
    "    if abs(num - ind) < abs(best_num):\r\n",
    "        best_num = num - ind\r\n",
    "print(best_num)"
   ],
   "outputs": [
    {
     "output_type": "stream",
     "name": "stdout",
     "text": [
      "-1\n"
     ]
    }
   ],
   "metadata": {}
  },
  {
   "cell_type": "code",
   "execution_count": 38,
   "source": [
    "import numpy as np\r\n",
    "x = [1, 2, 3, 4, 5]\r\n",
    "y = [2, 3, 4, 5 ,6]\r\n",
    "x = np.array(x)\r\n",
    "y = np.array(y)\r\n",
    "\r\n",
    "phi_l = np.arctan2(y[1:]-y[:-1],x[1:]-x[:-1] )"
   ],
   "outputs": [],
   "metadata": {}
  },
  {
   "cell_type": "code",
   "execution_count": 22,
   "source": [
    "np.arctan2(1, 1)"
   ],
   "outputs": [
    {
     "output_type": "execute_result",
     "data": {
      "text/plain": [
       "0.7853981633974483"
      ]
     },
     "metadata": {},
     "execution_count": 22
    }
   ],
   "metadata": {}
  },
  {
   "cell_type": "code",
   "execution_count": 36,
   "source": [
    "phi_l = np.concatenate((phi_l, phi_l[-1:]), axis=0)"
   ],
   "outputs": [],
   "metadata": {}
  },
  {
   "cell_type": "code",
   "execution_count": 34,
   "source": [
    "np.concatenate((x, y))"
   ],
   "outputs": [
    {
     "output_type": "execute_result",
     "data": {
      "text/plain": [
       "array([1, 2, 3, 4, 5, 2, 3, 4, 5, 6])"
      ]
     },
     "metadata": {},
     "execution_count": 34
    }
   ],
   "metadata": {}
  },
  {
   "cell_type": "code",
   "execution_count": 41,
   "source": [
    "xc = 4\r\n",
    "yc = 4\r\n",
    "# for i in range(len(x)):\r\n",
    "dis_array = np.sqrt((x - xc)**2 + (y - yc)**2)\r\n"
   ],
   "outputs": [],
   "metadata": {}
  },
  {
   "cell_type": "code",
   "execution_count": 48,
   "source": [
    "t = {'gneE664': ['l', 8, 7, 6], 'gneE246': ['s', 5, 4, 3], 'zhongguancunbei_out': ['t', 2]}\r\n",
    "for i in t:\r\n",
    "    if i == 'gneE246':\r\n",
    "        direction, lane_list = t[i][0], t[i][1:]\r\n",
    "        print(lane_list)"
   ],
   "outputs": [
    {
     "output_type": "stream",
     "name": "stdout",
     "text": [
      "[5, 4, 3]\n"
     ]
    }
   ],
   "metadata": {}
  },
  {
   "cell_type": "code",
   "execution_count": 54,
   "source": [
    "lists = [1,1,2,3,4,6,9,6,2,2]\r\n",
    "lists.sort()\r\n",
    "list(set(lists))"
   ],
   "outputs": [
    {
     "output_type": "execute_result",
     "data": {
      "text/plain": [
       "[1, 2, 3, 4, 6, 9]"
      ]
     },
     "metadata": {},
     "execution_count": 54
    }
   ],
   "metadata": {}
  },
  {
   "cell_type": "code",
   "execution_count": 42,
   "source": [
    "np.argmin(dis_array)"
   ],
   "outputs": [
    {
     "output_type": "execute_result",
     "data": {
      "text/plain": [
       "2"
      ]
     },
     "metadata": {},
     "execution_count": 42
    }
   ],
   "metadata": {}
  },
  {
   "cell_type": "code",
   "execution_count": 8,
   "source": [
    "\r\n",
    "\r\n",
    "total_lane_list = [11, 10, 8, 7, 6, 4, 3, 2]\r\n",
    "lane_list = [2, 6]\r\n",
    "if lane_list != total_lane_list:     \r\n",
    "    for lane in total_lane_list:\r\n",
    "        for cur_lane in lane_list:\r\n",
    "            if abs(lane-cur_lane) <= 1:\r\n",
    "                lane_list.append(lane)\r\n",
    "    lane_list = list(set(lane_list))\r\n",
    "    lane_list.sort()\r\n",
    "\r\n",
    "for lane in lane_list:\r\n",
    "    while lane+1 in total_lane_list:\r\n",
    "        lane_list.append(lane+1)\r\n",
    "        lane += 1\r\n",
    "    # while lane-1 in total_lane_list:\r\n",
    "    #     lane_list.append(lane-1)\r\n",
    "    #     lane -= 1\r\n",
    "# lane_list.sort()\r\n",
    "for lane in lane_list:\r\n",
    "    while lane-1 in total_lane_list:\r\n",
    "        lane_list.append(lane-1)\r\n",
    "        lane -= 1\r\n",
    "print(lane_list)\r\n",
    "lane_list = list(set(lane_list))\r\n",
    "lane_list.sort()\r\n",
    "print(lane_list)"
   ],
   "outputs": [
    {
     "output_type": "stream",
     "name": "stdout",
     "text": [
      "[3, 4, 2, 3, 2, 2]\n",
      "[2, 3, 4]\n"
     ]
    }
   ],
   "metadata": {}
  },
  {
   "cell_type": "code",
   "execution_count": 23,
   "source": [
    "total_lane_list = [11, 10, 8, 7, 6, 4, 3, 2]\r\n",
    "lane_list = [2, 6]\r\n",
    "new_list = []\r\n",
    "if lane_list != total_lane_list:     \r\n",
    "    for lane in total_lane_list:\r\n",
    "        for cur_lane in lane_list:\r\n",
    "            new_list.append(cur_lane)\r\n",
    "            if abs(lane-cur_lane) <= 1:\r\n",
    "                new_list.append(lane)\r\n",
    "    new_list = list(set(new_list))\r\n",
    "    new_list.sort()\r\n",
    "print(new_list)"
   ],
   "outputs": [
    {
     "output_type": "stream",
     "name": "stdout",
     "text": [
      "[2, 3, 6, 7]\n"
     ]
    }
   ],
   "metadata": {}
  },
  {
   "cell_type": "code",
   "execution_count": 27,
   "source": [
    "import numpy as np\r\n",
    "out_dict ={'beisihuanxifu_out_4': (np.array([3780.74      , 3780.24026403, 3779.74052805, 3779.24079208,\r\n",
    "       3778.74105611]), np.array([7833.71      , 7833.69643564, 7833.68287129, 7833.66930693,\r\n",
    "       7833.65574257]), np.array([-3.11445627, -3.11445627, -3.11445627, -3.11445627, -3.11445627])),\r\n",
    "        'beisihuanxifu_out_3': (np.array([3780.69      , 3780.19013201, 3779.69026403, 3779.19039604,  \r\n",
    "       3778.69052805]), np.array([7836.91      , 7836.89643564, 7836.88287129, 7836.86930693,\r\n",
    "       7836.85574257]), np.array([-3.11446343, -3.11446343, -3.11446343, -3.11446343, -3.11446343])),\r\n",
    "        'beisihuanxifu_out_2': (np.array([3780.64, 3780.14, 3779.64, 3779.14, 3778.64]), np.array([7840.11      , 7840.09643564, 7840.08287129, 7840.06930693,\r\n",
    "       7840.05574257]), np.array([-3.11447059, -3.11447059, -3.11447059, -3.11447059, -3.11447059]))}"
   ],
   "outputs": [],
   "metadata": {}
  },
  {
   "cell_type": "code",
   "execution_count": 35,
   "source": [
    "for k, v in out_dict.items():\r\n",
    "    print(k)"
   ],
   "outputs": [
    {
     "output_type": "stream",
     "name": "stdout",
     "text": [
      "beisihuanxifu_out_4\n",
      "beisihuanxifu_out_3\n",
      "beisihuanxifu_out_2\n"
     ]
    }
   ],
   "metadata": {}
  }
 ],
 "metadata": {
  "orig_nbformat": 4,
  "language_info": {
   "name": "python",
   "version": "3.8.3",
   "mimetype": "text/x-python",
   "codemirror_mode": {
    "name": "ipython",
    "version": 3
   },
   "pygments_lexer": "ipython3",
   "nbconvert_exporter": "python",
   "file_extension": ".py"
  },
  "kernelspec": {
   "name": "python3",
   "display_name": "Python 3.8.3 64-bit ('base': conda)"
  },
  "interpreter": {
   "hash": "b3ba2566441a7c06988d0923437866b63cedc61552a5af99d1f4fb67d367b25f"
  }
 },
 "nbformat": 4,
 "nbformat_minor": 2
}